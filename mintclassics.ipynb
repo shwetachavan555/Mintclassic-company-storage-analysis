{
 "cells": [
  {
   "cell_type": "code",
   "execution_count": 1,
   "id": "f9a77b63-c60a-4b0b-80b0-6d203c2e6c1b",
   "metadata": {},
   "outputs": [
    {
     "name": "stdout",
     "output_type": "stream",
     "text": [
      "<class 'pandas.core.frame.DataFrame'>\n",
      "RangeIndex: 11 entries, 0 to 10\n",
      "Data columns (total 5 columns):\n",
      " #   Column           Non-Null Count  Dtype \n",
      "---  ------           --------------  ----- \n",
      " 0   productCode      11 non-null     object\n",
      " 1   productName      11 non-null     object\n",
      " 2   quantityInStock  11 non-null     int64 \n",
      " 3   total_sold       11 non-null     int64 \n",
      " 4   remaining_stock  11 non-null     int64 \n",
      "dtypes: int64(3), object(2)\n",
      "memory usage: 572.0+ bytes\n"
     ]
    },
    {
     "data": {
      "text/plain": [
       "(None,\n",
       "   productCode               productName  quantityInStock  total_sold  \\\n",
       " 0    S24_2000  1960 BSA Gold Star DBD34               15        1015   \n",
       " 1    S12_1099         1968 Ford Mustang               68         933   \n",
       " 2    S32_1374          1997 BMW F650 ST              178        1014   \n",
       " 3    S32_4289  1928 Ford Phaeton Deluxe              136         972   \n",
       " 4    S72_3212                Pont Yacht              414         958   \n",
       " \n",
       "    remaining_stock  \n",
       " 0            -1000  \n",
       " 1             -865  \n",
       " 2             -836  \n",
       " 3             -836  \n",
       " 4             -544  )"
      ]
     },
     "execution_count": 1,
     "metadata": {},
     "output_type": "execute_result"
    }
   ],
   "source": [
    "import pandas as pd\n",
    "\n",
    "# Load the uploaded CSV file\n",
    "file_path =  r\"C:\\Users\\Admin\\Documents\\My Data Sources\\oversold.csv\"\n",
    "df = pd.read_csv(file_path)\n",
    "\n",
    "# Display basic info and first few rows to understand the data structure\n",
    "df.info(), df.head()\n"
   ]
  },
  {
   "cell_type": "code",
   "execution_count": null,
   "id": "9f76639d-8efb-49b3-b478-a5c3ab79e5a6",
   "metadata": {},
   "outputs": [],
   "source": []
  }
 ],
 "metadata": {
  "kernelspec": {
   "display_name": "Python 3 (ipykernel)",
   "language": "python",
   "name": "python3"
  },
  "language_info": {
   "codemirror_mode": {
    "name": "ipython",
    "version": 3
   },
   "file_extension": ".py",
   "mimetype": "text/x-python",
   "name": "python",
   "nbconvert_exporter": "python",
   "pygments_lexer": "ipython3",
   "version": "3.13.1"
  }
 },
 "nbformat": 4,
 "nbformat_minor": 5
}
